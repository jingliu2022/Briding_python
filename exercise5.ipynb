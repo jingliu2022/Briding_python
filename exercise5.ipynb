{
 "cells": [
  {
   "cell_type": "markdown",
   "id": "722a77ff",
   "metadata": {},
   "source": [
    "# Briding - Coding with Jupyter Notebook\n",
    "\n",
    "\n",
    "0. Markdowns, Headings, Comments\n",
    "1. Built-in modules, third party packages \n",
    "2. Arrays, Dictionary and Data frames \n",
    "3. Save your work in a readable format\n"
   ]
  },
  {
   "cell_type": "markdown",
   "id": "dafa4189",
   "metadata": {},
   "source": [
    "## 1. Built-in Python Modules and Third-party Packages"
   ]
  },
  {
   "cell_type": "markdown",
   "id": "9a4a11f0",
   "metadata": {},
   "source": [
    "### 1.1 Built-in modules  `math`\n",
    "\n",
    "You may import built-in python modules without installing them.\n",
    "\n",
    "Standard libraries distributed with Python:: https://docs.python.org/3.10/library/index.html"
   ]
  },
  {
   "cell_type": "code",
   "execution_count": 1,
   "id": "b4f38972",
   "metadata": {},
   "outputs": [
    {
     "name": "stdout",
     "output_type": "stream",
     "text": [
      "2\n",
      "10\n",
      "4.0\n",
      "3.141592653589793\n",
      "2.0863598306747484\n"
     ]
    }
   ],
   "source": [
    "import math \n",
    "# Documentation https://docs.python.org/3.10/library/math.html\n",
    "# various functions/variables in math module: ceil, floor, sqrt, pi, log10.\n",
    "\n",
    "print(math.ceil(1.44))\n",
    "print(math.floor(10.44))\n",
    "print(math.sqrt(16))\n",
    "print(math.pi)\n",
    "print(math.log10(122))"
   ]
  },
  {
   "cell_type": "markdown",
   "id": "a6272b9c",
   "metadata": {},
   "source": [
    "### 1.2  Third-party packages\n",
    "Unlike built-in moduels, there are lots of third-party python packages (e.g., ``pandas``, ``numpy``, ``matplolib``) which you need to install before importing.\n",
    "- use ``pip`` command in Jupyter Notebook"
   ]
  },
  {
   "cell_type": "code",
   "execution_count": 2,
   "id": "ccaa55d0",
   "metadata": {},
   "outputs": [],
   "source": [
    "#pip install pandas numpy matplotlib"
   ]
  },
  {
   "cell_type": "markdown",
   "id": "b27e74f9",
   "metadata": {},
   "source": [
    "Import ``pandas`` and ``numpy`` first."
   ]
  },
  {
   "cell_type": "code",
   "execution_count": 3,
   "id": "ec389e95",
   "metadata": {},
   "outputs": [],
   "source": [
    "import pandas as pd  \n",
    "# Documentation: https://pandas.pydata.org/pandas-docs/stable/reference/\n",
    "\n",
    "import numpy as np\n",
    "# Documentation: https://numpy.org/doc/stable/reference/"
   ]
  },
  {
   "cell_type": "markdown",
   "id": "c11e6b49",
   "metadata": {},
   "source": [
    "## 2. Arrays, Dictionary and Data frames "
   ]
  },
  {
   "cell_type": "markdown",
   "id": "ddecde1a",
   "metadata": {},
   "source": [
    "### 2.1 Handle arrays with `numpy`"
   ]
  },
  {
   "cell_type": "code",
   "execution_count": 4,
   "id": "0b655c91",
   "metadata": {},
   "outputs": [
    {
     "data": {
      "text/plain": [
       "array([[1, 2, 6],\n",
       "       [4, 5, 1]])"
      ]
     },
     "execution_count": 4,
     "metadata": {},
     "output_type": "execute_result"
    }
   ],
   "source": [
    "arr = np.array([[1,2,6],[4,5,1]])\n",
    "arr"
   ]
  },
  {
   "cell_type": "code",
   "execution_count": 5,
   "id": "0469de47",
   "metadata": {
    "scrolled": true
   },
   "outputs": [
    {
     "data": {
      "text/plain": [
       "(2, 3)"
      ]
     },
     "execution_count": 5,
     "metadata": {},
     "output_type": "execute_result"
    }
   ],
   "source": [
    "arr.shape   "
   ]
  },
  {
   "cell_type": "code",
   "execution_count": 6,
   "id": "7ff186d5",
   "metadata": {},
   "outputs": [
    {
     "name": "stdout",
     "output_type": "stream",
     "text": [
      "[1 2 6]\n",
      "1\n"
     ]
    }
   ],
   "source": [
    "print(arr[0])    # print values on the first row\n",
    "print(arr[0,0])  # print value in first row, first column"
   ]
  },
  {
   "cell_type": "code",
   "execution_count": 7,
   "id": "01472dd5",
   "metadata": {
    "scrolled": true
   },
   "outputs": [
    {
     "name": "stdout",
     "output_type": "stream",
     "text": [
      "6\n",
      "[4 5 6]\n",
      "[6 5]\n"
     ]
    }
   ],
   "source": [
    "print(np.max(arr))         # return max value in the flattened array\n",
    "print(np.max(arr,axis=0))  # compare across rows and return max values  \n",
    "print(np.max(arr,axis=1))  # compare across columns and return max values"
   ]
  },
  {
   "cell_type": "code",
   "execution_count": 8,
   "id": "a336695f",
   "metadata": {},
   "outputs": [
    {
     "data": {
      "text/plain": [
       "array([[11, 12, 16],\n",
       "       [14, 15, 11]])"
      ]
     },
     "execution_count": 8,
     "metadata": {},
     "output_type": "execute_result"
    }
   ],
   "source": [
    "arr + 10   # element-by-element computation"
   ]
  },
  {
   "cell_type": "code",
   "execution_count": 9,
   "id": "1ded4c08",
   "metadata": {},
   "outputs": [
    {
     "data": {
      "text/plain": [
       "array([[ 1,  4, 36],\n",
       "       [16, 25,  1]])"
      ]
     },
     "execution_count": 9,
     "metadata": {},
     "output_type": "execute_result"
    }
   ],
   "source": [
    "arr**2    # raise each element to its 2nd power"
   ]
  },
  {
   "cell_type": "markdown",
   "id": "ed5e8ba9",
   "metadata": {},
   "source": [
    "### 2.2 Handle data frames with `pandas`"
   ]
  },
  {
   "cell_type": "markdown",
   "id": "c9724b2a",
   "metadata": {},
   "source": [
    "We can create a data frame from an array."
   ]
  },
  {
   "cell_type": "code",
   "execution_count": 10,
   "id": "c6abfdba",
   "metadata": {
    "scrolled": true
   },
   "outputs": [
    {
     "data": {
      "text/html": [
       "<div>\n",
       "<style scoped>\n",
       "    .dataframe tbody tr th:only-of-type {\n",
       "        vertical-align: middle;\n",
       "    }\n",
       "\n",
       "    .dataframe tbody tr th {\n",
       "        vertical-align: top;\n",
       "    }\n",
       "\n",
       "    .dataframe thead th {\n",
       "        text-align: right;\n",
       "    }\n",
       "</style>\n",
       "<table border=\"1\" class=\"dataframe\">\n",
       "  <thead>\n",
       "    <tr style=\"text-align: right;\">\n",
       "      <th></th>\n",
       "      <th>a</th>\n",
       "      <th>b</th>\n",
       "      <th>c</th>\n",
       "    </tr>\n",
       "  </thead>\n",
       "  <tbody>\n",
       "    <tr>\n",
       "      <th>r1</th>\n",
       "      <td>1</td>\n",
       "      <td>2</td>\n",
       "      <td>6</td>\n",
       "    </tr>\n",
       "    <tr>\n",
       "      <th>r2</th>\n",
       "      <td>4</td>\n",
       "      <td>5</td>\n",
       "      <td>1</td>\n",
       "    </tr>\n",
       "  </tbody>\n",
       "</table>\n",
       "</div>"
      ],
      "text/plain": [
       "    a  b  c\n",
       "r1  1  2  6\n",
       "r2  4  5  1"
      ]
     },
     "execution_count": 10,
     "metadata": {},
     "output_type": "execute_result"
    }
   ],
   "source": [
    "df = pd.DataFrame(data = arr, \n",
    "                  columns=['a', 'b', 'c'], \n",
    "                  index = ['r1','r2']) \n",
    "df"
   ]
  },
  {
   "cell_type": "code",
   "execution_count": 11,
   "id": "5634debf",
   "metadata": {
    "scrolled": true
   },
   "outputs": [
    {
     "data": {
      "text/plain": [
       "Index(['a', 'b', 'c'], dtype='object')"
      ]
     },
     "execution_count": 11,
     "metadata": {},
     "output_type": "execute_result"
    }
   ],
   "source": [
    "df.columns    "
   ]
  },
  {
   "cell_type": "code",
   "execution_count": 12,
   "id": "0fe57346",
   "metadata": {},
   "outputs": [
    {
     "data": {
      "text/plain": [
       "Index(['r1', 'r2'], dtype='object')"
      ]
     },
     "execution_count": 12,
     "metadata": {},
     "output_type": "execute_result"
    }
   ],
   "source": [
    "df.index"
   ]
  },
  {
   "cell_type": "code",
   "execution_count": 13,
   "id": "2d4d58ef",
   "metadata": {},
   "outputs": [
    {
     "data": {
      "text/plain": [
       "(2, 3)"
      ]
     },
     "execution_count": 13,
     "metadata": {},
     "output_type": "execute_result"
    }
   ],
   "source": [
    "df.shape      # check data shape"
   ]
  },
  {
   "cell_type": "code",
   "execution_count": 14,
   "id": "ca3b9f40",
   "metadata": {},
   "outputs": [
    {
     "data": {
      "text/plain": [
       "r1    1\n",
       "r2    4\n",
       "Name: a, dtype: int64"
      ]
     },
     "execution_count": 14,
     "metadata": {},
     "output_type": "execute_result"
    }
   ],
   "source": [
    "df['a']       # select a column by its name"
   ]
  },
  {
   "cell_type": "markdown",
   "id": "d1c498d3",
   "metadata": {},
   "source": [
    "We can also create a data frame from a dictionary with `key: value` pairs.  Check [Dictionary Tutorial](https://docs.python.org/3/tutorial/datastructures.html#dictionaries) for details about dictionary. \n"
   ]
  },
  {
   "cell_type": "code",
   "execution_count": 15,
   "id": "b1e1ecc2",
   "metadata": {},
   "outputs": [
    {
     "data": {
      "text/plain": [
       "{'brand': ['Ford',\n",
       "  'BMW',\n",
       "  'Volkswagen',\n",
       "  'Benz',\n",
       "  'Benz',\n",
       "  'Benz',\n",
       "  'Volkswagen',\n",
       "  'Volkswagen'],\n",
       " 'electric': [False, True, False, True, True, False, True, False],\n",
       " 'year': [1964, 1980, 2000, 1990, 2011, 2000, 2000, 2022],\n",
       " 'colors': ['red', 'white', 'blue', 'white', 'red', 'blue', 'white', 'white'],\n",
       " 'price': [500, 1000, 700, 1200, 100, 100, 80, 130]}"
      ]
     },
     "execution_count": 15,
     "metadata": {},
     "output_type": "execute_result"
    }
   ],
   "source": [
    "car_dict = {\n",
    "  \"brand\": [\"Ford\",'BMW','Volkswagen','Benz','Benz','Benz','Volkswagen','Volkswagen'],\n",
    "  \"electric\": [False,True,False,True,True,False,True,False],\n",
    "  \"year\": [1964,1980,2000,1990,2011,2000,2000,2022],\n",
    "  \"colors\": [\"red\", \"white\", \"blue\",'white','red','blue','white','white'],\n",
    "  \"price\":[500,1000,700,1200,100,100,80,130]\n",
    "}\n",
    "\n",
    "car_dict"
   ]
  },
  {
   "cell_type": "code",
   "execution_count": 16,
   "id": "8930a96a",
   "metadata": {
    "scrolled": true
   },
   "outputs": [
    {
     "data": {
      "text/html": [
       "<div>\n",
       "<style scoped>\n",
       "    .dataframe tbody tr th:only-of-type {\n",
       "        vertical-align: middle;\n",
       "    }\n",
       "\n",
       "    .dataframe tbody tr th {\n",
       "        vertical-align: top;\n",
       "    }\n",
       "\n",
       "    .dataframe thead th {\n",
       "        text-align: right;\n",
       "    }\n",
       "</style>\n",
       "<table border=\"1\" class=\"dataframe\">\n",
       "  <thead>\n",
       "    <tr style=\"text-align: right;\">\n",
       "      <th></th>\n",
       "      <th>brand</th>\n",
       "      <th>electric</th>\n",
       "      <th>year</th>\n",
       "      <th>colors</th>\n",
       "      <th>price</th>\n",
       "    </tr>\n",
       "  </thead>\n",
       "  <tbody>\n",
       "    <tr>\n",
       "      <th>0</th>\n",
       "      <td>Ford</td>\n",
       "      <td>False</td>\n",
       "      <td>1964</td>\n",
       "      <td>red</td>\n",
       "      <td>500</td>\n",
       "    </tr>\n",
       "    <tr>\n",
       "      <th>1</th>\n",
       "      <td>BMW</td>\n",
       "      <td>True</td>\n",
       "      <td>1980</td>\n",
       "      <td>white</td>\n",
       "      <td>1000</td>\n",
       "    </tr>\n",
       "    <tr>\n",
       "      <th>2</th>\n",
       "      <td>Volkswagen</td>\n",
       "      <td>False</td>\n",
       "      <td>2000</td>\n",
       "      <td>blue</td>\n",
       "      <td>700</td>\n",
       "    </tr>\n",
       "    <tr>\n",
       "      <th>3</th>\n",
       "      <td>Benz</td>\n",
       "      <td>True</td>\n",
       "      <td>1990</td>\n",
       "      <td>white</td>\n",
       "      <td>1200</td>\n",
       "    </tr>\n",
       "    <tr>\n",
       "      <th>4</th>\n",
       "      <td>Benz</td>\n",
       "      <td>True</td>\n",
       "      <td>2011</td>\n",
       "      <td>red</td>\n",
       "      <td>100</td>\n",
       "    </tr>\n",
       "    <tr>\n",
       "      <th>5</th>\n",
       "      <td>Benz</td>\n",
       "      <td>False</td>\n",
       "      <td>2000</td>\n",
       "      <td>blue</td>\n",
       "      <td>100</td>\n",
       "    </tr>\n",
       "    <tr>\n",
       "      <th>6</th>\n",
       "      <td>Volkswagen</td>\n",
       "      <td>True</td>\n",
       "      <td>2000</td>\n",
       "      <td>white</td>\n",
       "      <td>80</td>\n",
       "    </tr>\n",
       "    <tr>\n",
       "      <th>7</th>\n",
       "      <td>Volkswagen</td>\n",
       "      <td>False</td>\n",
       "      <td>2022</td>\n",
       "      <td>white</td>\n",
       "      <td>130</td>\n",
       "    </tr>\n",
       "  </tbody>\n",
       "</table>\n",
       "</div>"
      ],
      "text/plain": [
       "        brand  electric  year colors  price\n",
       "0        Ford     False  1964    red    500\n",
       "1         BMW      True  1980  white   1000\n",
       "2  Volkswagen     False  2000   blue    700\n",
       "3        Benz      True  1990  white   1200\n",
       "4        Benz      True  2011    red    100\n",
       "5        Benz     False  2000   blue    100\n",
       "6  Volkswagen      True  2000  white     80\n",
       "7  Volkswagen     False  2022  white    130"
      ]
     },
     "execution_count": 16,
     "metadata": {},
     "output_type": "execute_result"
    }
   ],
   "source": [
    "car_df = pd.DataFrame(car_dict)\n",
    "\n",
    "car_df"
   ]
  },
  {
   "cell_type": "code",
   "execution_count": 17,
   "id": "2d149413",
   "metadata": {
    "scrolled": false
   },
   "outputs": [
    {
     "data": {
      "text/html": [
       "<div>\n",
       "<style scoped>\n",
       "    .dataframe tbody tr th:only-of-type {\n",
       "        vertical-align: middle;\n",
       "    }\n",
       "\n",
       "    .dataframe tbody tr th {\n",
       "        vertical-align: top;\n",
       "    }\n",
       "\n",
       "    .dataframe thead th {\n",
       "        text-align: right;\n",
       "    }\n",
       "</style>\n",
       "<table border=\"1\" class=\"dataframe\">\n",
       "  <thead>\n",
       "    <tr style=\"text-align: right;\">\n",
       "      <th></th>\n",
       "      <th>electric</th>\n",
       "      <th>year</th>\n",
       "      <th>colors</th>\n",
       "      <th>price</th>\n",
       "    </tr>\n",
       "    <tr>\n",
       "      <th>brand</th>\n",
       "      <th></th>\n",
       "      <th></th>\n",
       "      <th></th>\n",
       "      <th></th>\n",
       "    </tr>\n",
       "  </thead>\n",
       "  <tbody>\n",
       "    <tr>\n",
       "      <th>Ford</th>\n",
       "      <td>False</td>\n",
       "      <td>1964</td>\n",
       "      <td>red</td>\n",
       "      <td>500</td>\n",
       "    </tr>\n",
       "    <tr>\n",
       "      <th>BMW</th>\n",
       "      <td>True</td>\n",
       "      <td>1980</td>\n",
       "      <td>white</td>\n",
       "      <td>1000</td>\n",
       "    </tr>\n",
       "    <tr>\n",
       "      <th>Volkswagen</th>\n",
       "      <td>False</td>\n",
       "      <td>2000</td>\n",
       "      <td>blue</td>\n",
       "      <td>700</td>\n",
       "    </tr>\n",
       "    <tr>\n",
       "      <th>Benz</th>\n",
       "      <td>True</td>\n",
       "      <td>1990</td>\n",
       "      <td>white</td>\n",
       "      <td>1200</td>\n",
       "    </tr>\n",
       "    <tr>\n",
       "      <th>Benz</th>\n",
       "      <td>True</td>\n",
       "      <td>2011</td>\n",
       "      <td>red</td>\n",
       "      <td>100</td>\n",
       "    </tr>\n",
       "    <tr>\n",
       "      <th>Benz</th>\n",
       "      <td>False</td>\n",
       "      <td>2000</td>\n",
       "      <td>blue</td>\n",
       "      <td>100</td>\n",
       "    </tr>\n",
       "    <tr>\n",
       "      <th>Volkswagen</th>\n",
       "      <td>True</td>\n",
       "      <td>2000</td>\n",
       "      <td>white</td>\n",
       "      <td>80</td>\n",
       "    </tr>\n",
       "    <tr>\n",
       "      <th>Volkswagen</th>\n",
       "      <td>False</td>\n",
       "      <td>2022</td>\n",
       "      <td>white</td>\n",
       "      <td>130</td>\n",
       "    </tr>\n",
       "  </tbody>\n",
       "</table>\n",
       "</div>"
      ],
      "text/plain": [
       "            electric  year colors  price\n",
       "brand                                   \n",
       "Ford           False  1964    red    500\n",
       "BMW             True  1980  white   1000\n",
       "Volkswagen     False  2000   blue    700\n",
       "Benz            True  1990  white   1200\n",
       "Benz            True  2011    red    100\n",
       "Benz           False  2000   blue    100\n",
       "Volkswagen      True  2000  white     80\n",
       "Volkswagen     False  2022  white    130"
      ]
     },
     "execution_count": 17,
     "metadata": {},
     "output_type": "execute_result"
    }
   ],
   "source": [
    "car_df.set_index('brand', inplace=True)   # set \"brand\" column as index, replace existing data frame \n",
    "\n",
    "car_df"
   ]
  },
  {
   "cell_type": "code",
   "execution_count": 18,
   "id": "4461e955",
   "metadata": {
    "scrolled": false
   },
   "outputs": [
    {
     "data": {
      "text/html": [
       "<div>\n",
       "<style scoped>\n",
       "    .dataframe tbody tr th:only-of-type {\n",
       "        vertical-align: middle;\n",
       "    }\n",
       "\n",
       "    .dataframe tbody tr th {\n",
       "        vertical-align: top;\n",
       "    }\n",
       "\n",
       "    .dataframe thead th {\n",
       "        text-align: right;\n",
       "    }\n",
       "</style>\n",
       "<table border=\"1\" class=\"dataframe\">\n",
       "  <thead>\n",
       "    <tr style=\"text-align: right;\">\n",
       "      <th></th>\n",
       "      <th>brand</th>\n",
       "      <th>electric</th>\n",
       "      <th>year</th>\n",
       "      <th>colors</th>\n",
       "      <th>price</th>\n",
       "    </tr>\n",
       "  </thead>\n",
       "  <tbody>\n",
       "    <tr>\n",
       "      <th>0</th>\n",
       "      <td>Ford</td>\n",
       "      <td>False</td>\n",
       "      <td>1964</td>\n",
       "      <td>red</td>\n",
       "      <td>500</td>\n",
       "    </tr>\n",
       "    <tr>\n",
       "      <th>1</th>\n",
       "      <td>BMW</td>\n",
       "      <td>True</td>\n",
       "      <td>1980</td>\n",
       "      <td>white</td>\n",
       "      <td>1000</td>\n",
       "    </tr>\n",
       "    <tr>\n",
       "      <th>2</th>\n",
       "      <td>Volkswagen</td>\n",
       "      <td>False</td>\n",
       "      <td>2000</td>\n",
       "      <td>blue</td>\n",
       "      <td>700</td>\n",
       "    </tr>\n",
       "    <tr>\n",
       "      <th>3</th>\n",
       "      <td>Benz</td>\n",
       "      <td>True</td>\n",
       "      <td>1990</td>\n",
       "      <td>white</td>\n",
       "      <td>1200</td>\n",
       "    </tr>\n",
       "    <tr>\n",
       "      <th>4</th>\n",
       "      <td>Benz</td>\n",
       "      <td>True</td>\n",
       "      <td>2011</td>\n",
       "      <td>red</td>\n",
       "      <td>100</td>\n",
       "    </tr>\n",
       "    <tr>\n",
       "      <th>5</th>\n",
       "      <td>Benz</td>\n",
       "      <td>False</td>\n",
       "      <td>2000</td>\n",
       "      <td>blue</td>\n",
       "      <td>100</td>\n",
       "    </tr>\n",
       "    <tr>\n",
       "      <th>6</th>\n",
       "      <td>Volkswagen</td>\n",
       "      <td>True</td>\n",
       "      <td>2000</td>\n",
       "      <td>white</td>\n",
       "      <td>80</td>\n",
       "    </tr>\n",
       "    <tr>\n",
       "      <th>7</th>\n",
       "      <td>Volkswagen</td>\n",
       "      <td>False</td>\n",
       "      <td>2022</td>\n",
       "      <td>white</td>\n",
       "      <td>130</td>\n",
       "    </tr>\n",
       "  </tbody>\n",
       "</table>\n",
       "</div>"
      ],
      "text/plain": [
       "        brand  electric  year colors  price\n",
       "0        Ford     False  1964    red    500\n",
       "1         BMW      True  1980  white   1000\n",
       "2  Volkswagen     False  2000   blue    700\n",
       "3        Benz      True  1990  white   1200\n",
       "4        Benz      True  2011    red    100\n",
       "5        Benz     False  2000   blue    100\n",
       "6  Volkswagen      True  2000  white     80\n",
       "7  Volkswagen     False  2022  white    130"
      ]
     },
     "execution_count": 18,
     "metadata": {},
     "output_type": "execute_result"
    }
   ],
   "source": [
    "car_df.reset_index(inplace = True)  # reset the index as default numbers \n",
    "\n",
    "car_df"
   ]
  },
  {
   "cell_type": "markdown",
   "id": "983890f5",
   "metadata": {},
   "source": [
    "Save the above dataframe ``car_df`` as a csv file named ``car_df.csv`` in my work folder where this notebook is located (i.e., ``/Users/jingliu/OneDrive - Hong Kong Baptist University/Bridging_python``), just indicate the file name would be enough. "
   ]
  },
  {
   "cell_type": "code",
   "execution_count": 19,
   "id": "236f5500",
   "metadata": {},
   "outputs": [],
   "source": [
    "car_df.to_csv('car_df.csv',index = False)    # save the data frame as a csv file in CWD, ignore index"
   ]
  },
  {
   "cell_type": "markdown",
   "id": "a6131248",
   "metadata": {},
   "source": [
    "### 2.3 Simple Data Visualization \n",
    "\n",
    "Here we have saved a csv file named ``diabetes.csv`` in the ``Data`` folder in CWD. \n",
    "\n",
    "- The absolute path to the folder is is `/Users/jingliu/OneDrive - Hong Kong Baptist University/Bridging_python/Data`\n",
    "- Note we aleady imported pandas earlier. "
   ]
  },
  {
   "cell_type": "code",
   "execution_count": 20,
   "id": "08badbfc",
   "metadata": {
    "scrolled": false
   },
   "outputs": [
    {
     "data": {
      "text/html": [
       "<div>\n",
       "<style scoped>\n",
       "    .dataframe tbody tr th:only-of-type {\n",
       "        vertical-align: middle;\n",
       "    }\n",
       "\n",
       "    .dataframe tbody tr th {\n",
       "        vertical-align: top;\n",
       "    }\n",
       "\n",
       "    .dataframe thead th {\n",
       "        text-align: right;\n",
       "    }\n",
       "</style>\n",
       "<table border=\"1\" class=\"dataframe\">\n",
       "  <thead>\n",
       "    <tr style=\"text-align: right;\">\n",
       "      <th></th>\n",
       "      <th>Pregnancies</th>\n",
       "      <th>Glucose</th>\n",
       "      <th>BloodPressure</th>\n",
       "      <th>SkinThickness</th>\n",
       "      <th>Insulin</th>\n",
       "      <th>BMI</th>\n",
       "      <th>DiabetesPedigreeFunction</th>\n",
       "      <th>Age</th>\n",
       "      <th>Outcome</th>\n",
       "    </tr>\n",
       "  </thead>\n",
       "  <tbody>\n",
       "    <tr>\n",
       "      <th>0</th>\n",
       "      <td>6</td>\n",
       "      <td>148</td>\n",
       "      <td>72</td>\n",
       "      <td>35</td>\n",
       "      <td>0</td>\n",
       "      <td>33.6</td>\n",
       "      <td>0.627</td>\n",
       "      <td>50</td>\n",
       "      <td>1</td>\n",
       "    </tr>\n",
       "    <tr>\n",
       "      <th>1</th>\n",
       "      <td>1</td>\n",
       "      <td>85</td>\n",
       "      <td>66</td>\n",
       "      <td>29</td>\n",
       "      <td>0</td>\n",
       "      <td>26.6</td>\n",
       "      <td>0.351</td>\n",
       "      <td>31</td>\n",
       "      <td>0</td>\n",
       "    </tr>\n",
       "    <tr>\n",
       "      <th>2</th>\n",
       "      <td>8</td>\n",
       "      <td>183</td>\n",
       "      <td>64</td>\n",
       "      <td>0</td>\n",
       "      <td>0</td>\n",
       "      <td>23.3</td>\n",
       "      <td>0.672</td>\n",
       "      <td>32</td>\n",
       "      <td>1</td>\n",
       "    </tr>\n",
       "    <tr>\n",
       "      <th>3</th>\n",
       "      <td>1</td>\n",
       "      <td>89</td>\n",
       "      <td>66</td>\n",
       "      <td>23</td>\n",
       "      <td>94</td>\n",
       "      <td>28.1</td>\n",
       "      <td>0.167</td>\n",
       "      <td>21</td>\n",
       "      <td>0</td>\n",
       "    </tr>\n",
       "    <tr>\n",
       "      <th>4</th>\n",
       "      <td>0</td>\n",
       "      <td>137</td>\n",
       "      <td>40</td>\n",
       "      <td>35</td>\n",
       "      <td>168</td>\n",
       "      <td>43.1</td>\n",
       "      <td>2.288</td>\n",
       "      <td>33</td>\n",
       "      <td>1</td>\n",
       "    </tr>\n",
       "  </tbody>\n",
       "</table>\n",
       "</div>"
      ],
      "text/plain": [
       "   Pregnancies  Glucose  BloodPressure  SkinThickness  Insulin   BMI  \\\n",
       "0            6      148             72             35        0  33.6   \n",
       "1            1       85             66             29        0  26.6   \n",
       "2            8      183             64              0        0  23.3   \n",
       "3            1       89             66             23       94  28.1   \n",
       "4            0      137             40             35      168  43.1   \n",
       "\n",
       "   DiabetesPedigreeFunction  Age  Outcome  \n",
       "0                     0.627   50        1  \n",
       "1                     0.351   31        0  \n",
       "2                     0.672   32        1  \n",
       "3                     0.167   21        0  \n",
       "4                     2.288   33        1  "
      ]
     },
     "execution_count": 20,
     "metadata": {},
     "output_type": "execute_result"
    }
   ],
   "source": [
    "df = pd.read_csv('Data/diabetes.csv')  ## Read in a csv file - relative path\n",
    "\n",
    "df.head()"
   ]
  },
  {
   "cell_type": "markdown",
   "id": "63932822",
   "metadata": {},
   "source": [
    "Visualize the relationship between ``Age`` and ``BMI`` with a simple scatter plot. \n",
    "\n",
    "-- Need to import ``matplotlib``first."
   ]
  },
  {
   "cell_type": "code",
   "execution_count": 21,
   "id": "49b75ffe",
   "metadata": {
    "scrolled": false
   },
   "outputs": [
    {
     "data": {
      "image/png": "[encoded data removed]",
      "text/plain": [
       "<Figure size 1000x600 with 1 Axes>"
      ]
     },
     "metadata": {},
     "output_type": "display_data"
    }
   ],
   "source": [
    "import matplotlib.pyplot as plt     # Documentation: https://matplotlib.org/stable/\n",
    "\n",
    "fig = plt.figure(figsize=(10,6))   # create a new figure with specific figsize(width, height in inches)\n",
    "plt.scatter(df['Age'], df['BMI'], color='lightblue')\n",
    "plt.xlabel(\"Age\")\n",
    "plt.ylabel(\"BMI\")\n",
    "plt.title('BMI and Age');"
   ]
  },
  {
   "cell_type": "code",
   "execution_count": 22,
   "id": "03bf8548",
   "metadata": {},
   "outputs": [],
   "source": [
    "fig.savefig('a_simple_plot.jpeg')   # save to local folder"
   ]
  }
 ],
 "metadata": {
  "kernelspec": {
   "display_name": "Python 3 (ipykernel)",
   "language": "python",
   "name": "python3"
  },
  "language_info": {
   "codemirror_mode": {
    "name": "ipython",
    "version": 3
   },
   "file_extension": ".py",
   "mimetype": "text/x-python",
   "name": "python",
   "nbconvert_exporter": "python",
   "pygments_lexer": "ipython3",
   "version": "3.10.6"
  }
 },
 "nbformat": 4,
 "nbformat_minor": 5
}
