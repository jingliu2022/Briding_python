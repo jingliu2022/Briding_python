{
 "cells": [
  {
   "cell_type": "markdown",
   "id": "722a77ff",
   "metadata": {},
   "source": [
    "# Bridging - Coding with Jupyter Notebook\n",
    "\n",
    "\n",
    "0. Markdowns, Headings, Comments\n",
    "1. Built-in modules, third party packages \n",
    "2. Arrays, Dictionary and Data frames \n",
    "\n",
    "You may go to `View` -> `Table of Contents` to see the flow of content clearly. "
   ]
  },
  {
   "cell_type": "markdown",
   "id": "dafa4189",
   "metadata": {},
   "source": [
    "## 1. Built-in Python Modules and Third-party Packages"
   ]
  },
  {
   "cell_type": "markdown",
   "id": "9a4a11f0",
   "metadata": {},
   "source": [
    "### 1.1 Built-in modules \n",
    "\n",
    "You may import built-in python modules without installing them. For example, here we are going to use `math` module. \n",
    "\n",
    "- Check all built-in python libraries distributed with Python 3.12: https://docs.python.org/3.12/library/index.html"
   ]
  },
  {
   "cell_type": "code",
   "execution_count": null,
   "id": "b4f38972",
   "metadata": {},
   "outputs": [],
   "source": [
    "import math \n",
    "# Documentation https://docs.python.org/3.10/library/math.html\n",
    "# various functions/variables in math module: ceil, floor, sqrt, pi, log10.\n",
    "\n",
    "print(math.ceil(1.44))\n",
    "print(math.floor(10.44))\n",
    "print(math.sqrt(16))\n",
    "print(math.log10(100))"
   ]
  },
  {
   "cell_type": "markdown",
   "id": "a6272b9c",
   "metadata": {},
   "source": [
    "### 1.2  Third-party packages\n",
    "Unlike built-in moduels, there are lots of third-party python packages **which need to be installed first before imported and used**.\n",
    "- In Jupyte Notebook, we can use ``pip`` to install packages in current environment.\n",
    "- Here let's install three third-party packages (e.g., ``pandas``, ``numpy``, ``matplolib``) which we will use today.  "
   ]
  },
  {
   "cell_type": "code",
   "execution_count": null,
   "id": "ccaa55d0",
   "metadata": {},
   "outputs": [],
   "source": [
    "#pip install pandas numpy matplotlib"
   ]
  },
  {
   "cell_type": "markdown",
   "id": "b27e74f9",
   "metadata": {},
   "source": [
    "Import ``pandas`` and ``numpy`` first."
   ]
  },
  {
   "cell_type": "code",
   "execution_count": null,
   "id": "ec389e95",
   "metadata": {},
   "outputs": [],
   "source": [
    "import pandas as pd  \n",
    "# Documentation: https://pandas.pydata.org/pandas-docs/stable/reference/\n",
    "\n",
    "import numpy as np\n",
    "# Documentation: https://numpy.org/doc/stable/reference/"
   ]
  },
  {
   "cell_type": "markdown",
   "id": "c11e6b49",
   "metadata": {},
   "source": [
    "## 2. Arrays, Dictionary and Data frames "
   ]
  },
  {
   "cell_type": "markdown",
   "id": "ddecde1a",
   "metadata": {},
   "source": [
    "### 2.1 Handle arrays with `numpy`"
   ]
  },
  {
   "cell_type": "code",
   "execution_count": null,
   "id": "0b655c91",
   "metadata": {},
   "outputs": [],
   "source": [
    "arr = np.array([[1,2,6],[4,5,1]])\n",
    "arr"
   ]
  },
  {
   "cell_type": "code",
   "execution_count": null,
   "id": "0469de47",
   "metadata": {
    "scrolled": true
   },
   "outputs": [],
   "source": [
    "arr.shape   "
   ]
  },
  {
   "cell_type": "code",
   "execution_count": null,
   "id": "7ff186d5",
   "metadata": {},
   "outputs": [],
   "source": [
    "print(arr[0])    # print values on the first row\n",
    "print(arr[0,0])  # print value in first row, first column"
   ]
  },
  {
   "cell_type": "code",
   "execution_count": null,
   "id": "01472dd5",
   "metadata": {},
   "outputs": [],
   "source": [
    "print(np.max(arr))         # return max value in the flattened array\n",
    "print(np.max(arr,axis=0))  # compare across rows and return max values  \n",
    "print(np.max(arr,axis=1))  # compare across columns and return max values"
   ]
  },
  {
   "cell_type": "code",
   "execution_count": null,
   "id": "a336695f",
   "metadata": {},
   "outputs": [],
   "source": [
    "arr + 10   # element-by-element computation"
   ]
  },
  {
   "cell_type": "code",
   "execution_count": null,
   "id": "1ded4c08",
   "metadata": {},
   "outputs": [],
   "source": [
    "arr**2    # raise each element to its 2nd power"
   ]
  },
  {
   "cell_type": "markdown",
   "id": "ed5e8ba9",
   "metadata": {},
   "source": [
    "### 2.2 Handle data frames with `pandas`"
   ]
  },
  {
   "cell_type": "markdown",
   "id": "c9724b2a",
   "metadata": {},
   "source": [
    "We can create a data frame from an array."
   ]
  },
  {
   "cell_type": "code",
   "execution_count": null,
   "id": "c6abfdba",
   "metadata": {
    "scrolled": true
   },
   "outputs": [],
   "source": [
    "df = pd.DataFrame(data = arr, \n",
    "                  columns=['a', 'b', 'c'], \n",
    "                  index = ['r1','r2']) \n",
    "df    # display the data frame"
   ]
  },
  {
   "cell_type": "code",
   "execution_count": null,
   "id": "2d4d58ef",
   "metadata": {},
   "outputs": [],
   "source": [
    "df.shape      # check data shape"
   ]
  },
  {
   "cell_type": "code",
   "execution_count": null,
   "id": "5634debf",
   "metadata": {
    "scrolled": true
   },
   "outputs": [],
   "source": [
    "df.columns     # check column names"
   ]
  },
  {
   "cell_type": "code",
   "execution_count": null,
   "id": "0fe57346",
   "metadata": {},
   "outputs": [],
   "source": [
    "df.index       # check row names"
   ]
  },
  {
   "cell_type": "code",
   "execution_count": null,
   "id": "ca3b9f40",
   "metadata": {},
   "outputs": [],
   "source": [
    "df['a']        # select a column by its name"
   ]
  },
  {
   "cell_type": "markdown",
   "id": "d1c498d3",
   "metadata": {},
   "source": [
    "We can also create a data frame from a dictionary with `key: value` pairs.  Check [Dictionary Tutorial](https://docs.python.org/3/tutorial/datastructures.html#dictionaries) for details about dictionary. \n"
   ]
  },
  {
   "cell_type": "code",
   "execution_count": null,
   "id": "b1e1ecc2",
   "metadata": {},
   "outputs": [],
   "source": [
    "car_dict = {\n",
    "  \"brand\": [\"Ford\",'BMW','Volkswagen','Benz','Benz','Benz','Volkswagen','Volkswagen'],\n",
    "  \"electric\": [False,True,False,True,True,False,True,False],\n",
    "  \"year\": [1964,1980,2000,1990,2011,2000,2000,2022],\n",
    "  \"colors\": [\"red\", \"white\", \"blue\",'white','red','blue','white','white'],\n",
    "  \"price\":[500,1000,700,1200,100,100,80,130]\n",
    "}\n",
    "\n",
    "car_dict"
   ]
  },
  {
   "cell_type": "code",
   "execution_count": null,
   "id": "8930a96a",
   "metadata": {
    "scrolled": true
   },
   "outputs": [],
   "source": [
    "car_df = pd.DataFrame(car_dict)\n",
    "\n",
    "car_df"
   ]
  },
  {
   "cell_type": "code",
   "execution_count": null,
   "id": "2d149413",
   "metadata": {},
   "outputs": [],
   "source": [
    "car_df.set_index('brand', inplace=True)   # set \"brand\" column as index, replace existing data frame \n",
    "\n",
    "car_df"
   ]
  },
  {
   "cell_type": "code",
   "execution_count": null,
   "id": "4461e955",
   "metadata": {},
   "outputs": [],
   "source": [
    "car_df.reset_index(inplace = True)  # reset the index as default numbers \n",
    "\n",
    "car_df"
   ]
  },
  {
   "cell_type": "markdown",
   "id": "983890f5",
   "metadata": {},
   "source": [
    "Save the above dataframe ``car_df`` as a csv file named ``car_df.csv`` in my work folder where this notebook is located (i.e., ``/Users/jingliu/OneDrive - Hong Kong Baptist University/Bridging_python``), just indicate the file name would be enough. "
   ]
  },
  {
   "cell_type": "code",
   "execution_count": null,
   "id": "236f5500",
   "metadata": {},
   "outputs": [],
   "source": [
    "car_df.to_csv('car_df.csv',index = False)    # save the data frame as a csv file in CWD, ignore index"
   ]
  },
  {
   "cell_type": "markdown",
   "id": "a6131248",
   "metadata": {},
   "source": [
    "### 2.3 Simple Data Visualization with `matplotlib`\n",
    "\n",
    "Here we have saved a csv file named ``diabetes.csv`` in the ``Data`` folder in CWD. \n",
    "\n",
    "- The absolute path to the folder is is `/Users/jingliu/OneDrive - Hong Kong Baptist University/Bridging_python/Data`\n",
    "- Note we aleady imported pandas earlier. "
   ]
  },
  {
   "cell_type": "code",
   "execution_count": null,
   "id": "08badbfc",
   "metadata": {},
   "outputs": [],
   "source": [
    "df = pd.read_csv('Data/diabetes.csv')  ## Read in a csv file - relative path\n",
    "\n",
    "df.head()"
   ]
  },
  {
   "cell_type": "markdown",
   "id": "63932822",
   "metadata": {},
   "source": [
    "Visualize the relationship between ``Age`` and ``BMI`` with a simple scatter plot. \n",
    "\n",
    "-- Need to import ``matplotlib``first."
   ]
  },
  {
   "cell_type": "code",
   "execution_count": null,
   "id": "49b75ffe",
   "metadata": {},
   "outputs": [],
   "source": [
    "import matplotlib.pyplot as plt     # Documentation: https://matplotlib.org/stable/\n",
    "\n",
    "fig = plt.figure(figsize=(10,6))   # create a new figure with specific figsize(width, height in inches)\n",
    "plt.scatter(df['Age'], df['BMI'], color='lightblue')\n",
    "plt.xlabel(\"Age\")\n",
    "plt.ylabel(\"BMI\")\n",
    "plt.title('BMI and Age');"
   ]
  },
  {
   "cell_type": "code",
   "execution_count": null,
   "id": "03bf8548",
   "metadata": {},
   "outputs": [],
   "source": [
    "fig.savefig('a_simple_plot.jpeg')   # save the figure to current local directory  "
   ]
  },
  {
   "cell_type": "markdown",
   "id": "6c51452b-13ce-463a-be3e-27accb705ece",
   "metadata": {},
   "source": [
    "Last, let's save our work in a readable format.\n",
    "\n",
    "- First, go to `Kernel` -> `Restart Kernel and Run all Cells`\n",
    "- Go to `File` -> `Save and Export Notebook As` -> `HTML` or `PDF`. \n"
   ]
  }
 ],
 "metadata": {
  "kernelspec": {
   "display_name": "Python 3 (ipykernel)",
   "language": "python",
   "name": "python3"
  },
  "language_info": {
   "codemirror_mode": {
    "name": "ipython",
    "version": 3
   },
   "file_extension": ".py",
   "mimetype": "text/x-python",
   "name": "python",
   "nbconvert_exporter": "python",
   "pygments_lexer": "ipython3",
   "version": "3.12.4"
  }
 },
 "nbformat": 4,
 "nbformat_minor": 5
}
