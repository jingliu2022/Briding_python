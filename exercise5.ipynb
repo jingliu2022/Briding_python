{
 "cells": [
  {
   "cell_type": "markdown",
   "id": "722a77ff",
   "metadata": {},
   "source": [
    "# Briding - Coding with Jupyter Notebook\n",
    "\n",
    "\n",
    "0. Markdowns, Headings, Comments\n",
    "1. Built-in modules, third party packages \n",
    "2. Arrays, Dictionary and Data frames \n",
    "3. Data exploration with pandas and matplotlib\n",
    "4. Save your work in a readable format\n"
   ]
  },
  {
   "cell_type": "markdown",
   "id": "dafa4189",
   "metadata": {},
   "source": [
    "## 1. Built-in Python Modules and Third-party Packages"
   ]
  },
  {
   "cell_type": "markdown",
   "id": "9a4a11f0",
   "metadata": {},
   "source": [
    "### 1.1 Built-in modules: math \n",
    "\n",
    "You may import built-in python modules without installing them.\n",
    "\n",
    "Standard libraries distributed with Python:: https://docs.python.org/3.10/library/index.html"
   ]
  },
  {
   "cell_type": "code",
   "execution_count": null,
   "id": "b4f38972",
   "metadata": {},
   "outputs": [],
   "source": [
    "import math \n",
    "# Documentation https://docs.python.org/3.10/library/math.html\n",
    "# various functions/variables in math module: ceil, floor, sqrt, pi, log10.\n",
    "# Note the module.function format\n",
    "\n",
    "print(math.ceil(1.44))\n",
    "print(math.floor(10.44))\n",
    "print(math.sqrt(16))\n",
    "print(math.pi)\n",
    "print(math.log10(122))"
   ]
  },
  {
   "cell_type": "markdown",
   "id": "a6272b9c",
   "metadata": {},
   "source": [
    "### 1.2  Third-party packages\n",
    "Unlike built-in moduels, there are lots of third-party python packages (e.g., ``pandas``, ``numpy``, ``matplolib``) which you need to install before importing.\n",
    "- use ``pip`` command in JupyTer Notebook"
   ]
  },
  {
   "cell_type": "code",
   "execution_count": null,
   "id": "ccaa55d0",
   "metadata": {},
   "outputs": [],
   "source": [
    "#pip install pandas numpy matplotlib"
   ]
  },
  {
   "cell_type": "markdown",
   "id": "b27e74f9",
   "metadata": {},
   "source": [
    "Import ``pandas`` and ``numpy`` first."
   ]
  },
  {
   "cell_type": "code",
   "execution_count": null,
   "id": "ec389e95",
   "metadata": {},
   "outputs": [],
   "source": [
    "import pandas as pd  \n",
    "# Documentation: https://pandas.pydata.org/pandas-docs/stable/reference/\n",
    "\n",
    "import numpy as np\n",
    "# Documentation: https://numpy.org/doc/stable/reference/"
   ]
  },
  {
   "cell_type": "markdown",
   "id": "c11e6b49",
   "metadata": {},
   "source": [
    "## 2. Arrays, Dictionary and Data frames "
   ]
  },
  {
   "cell_type": "markdown",
   "id": "ddecde1a",
   "metadata": {},
   "source": [
    "### 2.1 Deal with arrays with numpy"
   ]
  },
  {
   "cell_type": "code",
   "execution_count": null,
   "id": "0b655c91",
   "metadata": {},
   "outputs": [],
   "source": [
    "arr = np.array([[1,2,6],[4,5,1]])\n",
    "arr"
   ]
  },
  {
   "cell_type": "code",
   "execution_count": null,
   "id": "0469de47",
   "metadata": {
    "scrolled": true
   },
   "outputs": [],
   "source": [
    "arr.shape   "
   ]
  },
  {
   "cell_type": "code",
   "execution_count": null,
   "id": "7ff186d5",
   "metadata": {},
   "outputs": [],
   "source": [
    "print(arr[0])    # print values on the first row\n",
    "print(arr[0,0])  # print value in first row, first column"
   ]
  },
  {
   "cell_type": "code",
   "execution_count": null,
   "id": "01472dd5",
   "metadata": {
    "scrolled": true
   },
   "outputs": [],
   "source": [
    "print(np.amax(arr))         # return max value in the flattened array\n",
    "print(np.amax(arr,axis=0))  # compare across rows and return max values  \n",
    "print(np.amax(arr,axis=1))  # compare across columns and return max values"
   ]
  },
  {
   "cell_type": "code",
   "execution_count": null,
   "id": "0ae14cfa",
   "metadata": {
    "scrolled": false
   },
   "outputs": [],
   "source": [
    "print(np.argmax(arr))           # return position of max value in the flattened arrray\n",
    "print(np.argmax(arr, axis =0))  # compare across rows and return the positon of the max values  \n",
    "print(np.argmax(arr, axis =1))  # compare across columns and return the positon of the max values  "
   ]
  },
  {
   "cell_type": "code",
   "execution_count": null,
   "id": "a336695f",
   "metadata": {},
   "outputs": [],
   "source": [
    "arr + 10 # element-by-element computation"
   ]
  },
  {
   "cell_type": "code",
   "execution_count": null,
   "id": "1ded4c08",
   "metadata": {},
   "outputs": [],
   "source": [
    "arr**2  "
   ]
  },
  {
   "cell_type": "markdown",
   "id": "ed5e8ba9",
   "metadata": {},
   "source": [
    "### 2.2 Deal with data frames with pandas"
   ]
  },
  {
   "cell_type": "markdown",
   "id": "c9724b2a",
   "metadata": {},
   "source": [
    "Create a data frame from an array."
   ]
  },
  {
   "cell_type": "code",
   "execution_count": null,
   "id": "c6abfdba",
   "metadata": {
    "scrolled": true
   },
   "outputs": [],
   "source": [
    "df = pd.DataFrame(arr, columns=['a', 'b', 'c'], index = ['r1','r2']) \n",
    "df"
   ]
  },
  {
   "cell_type": "code",
   "execution_count": null,
   "id": "5634debf",
   "metadata": {
    "scrolled": true
   },
   "outputs": [],
   "source": [
    "df.columns"
   ]
  },
  {
   "cell_type": "code",
   "execution_count": null,
   "id": "0fe57346",
   "metadata": {},
   "outputs": [],
   "source": [
    "df.index"
   ]
  },
  {
   "cell_type": "code",
   "execution_count": null,
   "id": "2d4d58ef",
   "metadata": {},
   "outputs": [],
   "source": [
    "df.shape # check data structure"
   ]
  },
  {
   "cell_type": "code",
   "execution_count": null,
   "id": "64aca1e4",
   "metadata": {
    "scrolled": false
   },
   "outputs": [],
   "source": [
    "df.iloc[0,0]  # select the value at row 0 and col 0 (.iloc index by position)"
   ]
  },
  {
   "cell_type": "code",
   "execution_count": null,
   "id": "d3f2ccb1",
   "metadata": {},
   "outputs": [],
   "source": [
    "df.loc['r1','a'] # select the value at row r1 and column a  (.loc index by labels)"
   ]
  },
  {
   "cell_type": "code",
   "execution_count": null,
   "id": "135f53ae",
   "metadata": {
    "scrolled": true
   },
   "outputs": [],
   "source": [
    "df.loc['r1']  # select a row"
   ]
  },
  {
   "cell_type": "code",
   "execution_count": null,
   "id": "ca3b9f40",
   "metadata": {},
   "outputs": [],
   "source": [
    "df['a']   # select one column"
   ]
  },
  {
   "cell_type": "code",
   "execution_count": null,
   "id": "6a14e1e6",
   "metadata": {
    "scrolled": false
   },
   "outputs": [],
   "source": [
    "df[['b','c']]  # select multiple columns with double square brackets"
   ]
  },
  {
   "cell_type": "markdown",
   "id": "d1c498d3",
   "metadata": {},
   "source": [
    "Create a data frame from a dictionary (key: value pairs) \n",
    "\n",
    "Check [Dictionary Tutorial](https://docs.python.org/3/tutorial/datastructures.html#dictionaries). \n"
   ]
  },
  {
   "cell_type": "code",
   "execution_count": null,
   "id": "b1e1ecc2",
   "metadata": {},
   "outputs": [],
   "source": [
    "car_dict = {\n",
    "  \"brand\": [\"Ford\",'BMW','Volkswagen','Benz','Benz','Benz','Volkswagen','Volkswagen'],\n",
    "  \"electric\": [False,True,False,True,True,False,True,False],\n",
    "  \"year\": [1964,1980,2000,1990,2011,2000,2000,2022],\n",
    "  \"colors\": [\"red\", \"white\", \"blue\",'white','red','blue','white','white'],\n",
    "  \"price\":[500,1000,700,1200,100,100,80,130]\n",
    "}\n",
    "\n",
    "car_dict"
   ]
  },
  {
   "cell_type": "code",
   "execution_count": null,
   "id": "01f88844",
   "metadata": {},
   "outputs": [],
   "source": [
    "car_dict['brand'] # extract values associate with a key "
   ]
  },
  {
   "cell_type": "code",
   "execution_count": null,
   "id": "8930a96a",
   "metadata": {
    "scrolled": true
   },
   "outputs": [],
   "source": [
    "car_df = pd.DataFrame(car_dict)  \n",
    "car_df"
   ]
  },
  {
   "cell_type": "code",
   "execution_count": null,
   "id": "d341dca0",
   "metadata": {
    "scrolled": true
   },
   "outputs": [],
   "source": [
    "car_df.columns  # check variable names (column names)"
   ]
  },
  {
   "cell_type": "code",
   "execution_count": null,
   "id": "30317921",
   "metadata": {
    "scrolled": false
   },
   "outputs": [],
   "source": [
    "car_df.describe(include= 'all') # describe each variable (both continous and categorical)"
   ]
  },
  {
   "cell_type": "code",
   "execution_count": null,
   "id": "2d149413",
   "metadata": {
    "scrolled": false
   },
   "outputs": [],
   "source": [
    "car_df.set_index('brand', inplace=True)   # set \"brand\" column as index, replace existing data frame with the new one\n",
    "car_df"
   ]
  },
  {
   "cell_type": "code",
   "execution_count": null,
   "id": "3c38659b",
   "metadata": {},
   "outputs": [],
   "source": [
    "car_df.loc['Ford','price']     # .loc index by labels"
   ]
  },
  {
   "cell_type": "code",
   "execution_count": null,
   "id": "54409189",
   "metadata": {},
   "outputs": [],
   "source": [
    "car_df.loc[car_df['colors'] == 'red','price']  # select price for cars with red color "
   ]
  },
  {
   "cell_type": "code",
   "execution_count": null,
   "id": "aa0e9dc0",
   "metadata": {},
   "outputs": [],
   "source": [
    "car_df.loc[car_df['colors'] == 'red',['price','year']]   # select price and year for cars with red color "
   ]
  },
  {
   "cell_type": "code",
   "execution_count": null,
   "id": "4461e955",
   "metadata": {
    "scrolled": false
   },
   "outputs": [],
   "source": [
    "car_df.reset_index(inplace = True)  # reset the index as default numbers \n",
    "car_df"
   ]
  },
  {
   "cell_type": "markdown",
   "id": "983890f5",
   "metadata": {},
   "source": [
    "Save the above dataframe ``car_df`` as a csv file named ``car_df.csv`` in CWD (i.e., the current working directory is ``/Users/jingliu/OneDrive - Hong Kong Baptist University/Bridging_python``), just indicate the file name would be enough. "
   ]
  },
  {
   "cell_type": "code",
   "execution_count": null,
   "id": "236f5500",
   "metadata": {},
   "outputs": [],
   "source": [
    "car_df.to_csv('car_df.csv',index = False)  # save the data frame as a csv file in CWD, ignore index"
   ]
  },
  {
   "cell_type": "markdown",
   "id": "2fe20bba",
   "metadata": {},
   "source": [
    "Read the csv file from CWD, using the relative path. "
   ]
  },
  {
   "cell_type": "code",
   "execution_count": null,
   "id": "d8343715",
   "metadata": {
    "scrolled": false
   },
   "outputs": [],
   "source": [
    "new = pd.read_csv('car_df.csv')       \n",
    "new"
   ]
  },
  {
   "attachments": {},
   "cell_type": "markdown",
   "id": "a6131248",
   "metadata": {},
   "source": [
    "## 3. Data exploration with pandas and matplotlib\n",
    "\n",
    "Here we have saved a csv file named ``diabetes.csv`` in the ``Data`` folder in CWD. \n",
    "\n",
    "- the absolute path to the folder is is `/Users/jingliu/OneDrive - Hong Kong Baptist University/Bridging_python/Data`"
   ]
  },
  {
   "cell_type": "code",
   "execution_count": null,
   "id": "08badbfc",
   "metadata": {
    "scrolled": false
   },
   "outputs": [],
   "source": [
    "df = pd.read_csv('Data/diabetes.csv')  ## Read in a csv file.\n",
    "df.head()"
   ]
  },
  {
   "cell_type": "markdown",
   "id": "5ee5a841",
   "metadata": {},
   "source": [
    "Add a new categorical variable named ``Preg``, indicating whether the person is pregnant or not."
   ]
  },
  {
   "cell_type": "code",
   "execution_count": null,
   "id": "030b7498",
   "metadata": {
    "scrolled": true
   },
   "outputs": [],
   "source": [
    "df.loc[df['Pregnancies'] == 0, 'Preg'] = 'No'  # when Pregnancies == 0, 'Preg' is assigned as No\n",
    "df.loc[df['Pregnancies'] != 0, 'Preg'] = 'Yes'\n",
    "df.head()"
   ]
  },
  {
   "cell_type": "code",
   "execution_count": null,
   "id": "f74017d7",
   "metadata": {
    "scrolled": true
   },
   "outputs": [],
   "source": [
    "df.shape"
   ]
  },
  {
   "cell_type": "code",
   "execution_count": null,
   "id": "9cf1a5bd",
   "metadata": {
    "scrolled": true
   },
   "outputs": [],
   "source": [
    "df.describe(include='all')"
   ]
  },
  {
   "cell_type": "code",
   "execution_count": null,
   "id": "8d6a4da2",
   "metadata": {
    "scrolled": false
   },
   "outputs": [],
   "source": [
    "df['Preg'].value_counts()  # count of unique values in a variable"
   ]
  },
  {
   "cell_type": "markdown",
   "id": "63932822",
   "metadata": {},
   "source": [
    "Visualize the relationship between ``Age`` and ``BMI`` with a scatter plot\n",
    "\n",
    "-- need to import ``matplotlib``first "
   ]
  },
  {
   "cell_type": "code",
   "execution_count": null,
   "id": "324fd9c5",
   "metadata": {},
   "outputs": [],
   "source": [
    "import matplotlib.pyplot as plt\n",
    "# Documentation: https://matplotlib.org/stable/"
   ]
  },
  {
   "cell_type": "code",
   "execution_count": null,
   "id": "49b75ffe",
   "metadata": {
    "scrolled": false
   },
   "outputs": [],
   "source": [
    "# A simple scatter plot\n",
    "\n",
    "plt.figure(figsize=(10,6))   # create a new figure with specific figsize(width, height in inches.)\n",
    "plt.scatter(df['Age'], df['BMI'], color='lightblue')\n",
    "plt.xlabel(\"Age\")\n",
    "plt.ylabel(\"BMI\")\n",
    "plt.title('BMI and Age');"
   ]
  },
  {
   "cell_type": "markdown",
   "id": "48903a88",
   "metadata": {},
   "source": [
    "Plot multiple subplots in one figure\n",
    "- a scatter plot show the relationship between ``BMI`` and ``Age``\n",
    "- a line plot shows ``Age`` of each person in this dataset   \n",
    "- a box plot shows the distribution of ``Age`` in the dataset"
   ]
  },
  {
   "cell_type": "code",
   "execution_count": null,
   "id": "6f187382",
   "metadata": {},
   "outputs": [],
   "source": [
    "fig, axes = plt.subplots(1, 3,                # create a figure with three subplots: 1 row, 3 columns\n",
    "                         figsize=(12, 5),     # figure size\n",
    "                         sharey = True,       # share y \n",
    "                         constrained_layout=True)  # automatically adjusts subplots so they fit in window\n",
    "\n",
    "axes[0].scatter(df['BMI'], df['Age'], color='yellow')\n",
    "axes[0].set_xlabel('BMI')\n",
    "axes[0].set_ylabel('Age')\n",
    "axes[0].set_title('Age vs. BMI')  # Set title for the sub plot\n",
    "\n",
    "axes[1].plot(df['Age'], 'g+-')    # a line plot, with each cross indicate a person's age (y axis)\n",
    "axes[1].set_title('Line Plot of Age')\n",
    "\n",
    "axes[2].boxplot(df['Age'])\n",
    "axes[2].set_title('Age Distribution');\n",
    "\n",
    "fig.suptitle('Multiple Plots');   # Add a centered suptitle to the figure \n"
   ]
  }
 ],
 "metadata": {
  "kernelspec": {
   "display_name": "Python 3 (ipykernel)",
   "language": "python",
   "name": "python3"
  },
  "language_info": {
   "codemirror_mode": {
    "name": "ipython",
    "version": 3
   },
   "file_extension": ".py",
   "mimetype": "text/x-python",
   "name": "python",
   "nbconvert_exporter": "python",
   "pygments_lexer": "ipython3",
   "version": "3.10.6"
  }
 },
 "nbformat": 4,
 "nbformat_minor": 5
}
